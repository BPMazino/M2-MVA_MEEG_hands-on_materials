{
 "cells": [
  {
   "cell_type": "code",
   "execution_count": null,
   "id": "df4e1d50-54d9-4b55-b529-491f34c960af",
   "metadata": {},
   "outputs": [],
   "source": [
    "# TODO - combination of tutorials to avoid redundancies..."
   ]
  },
  {
   "cell_type": "markdown",
   "id": "7fa32c3a-ff93-4bc6-9bc8-281a102f9059",
   "metadata": {},
   "source": [
    "# \"simple\" comparison of ppl in MI case - cf moabb - http://moabb.neurotechx.com/docs/index.html"
   ]
  },
  {
   "cell_type": "markdown",
   "id": "e2504475-25e2-4778-b7cf-72c029038813",
   "metadata": {},
   "source": [
    "# GridSearch within a MI session - finding best parametershttp://moabb.neurotechx.com/docs/auto_examples/advanced_examples/plot_grid_search_withinsession.html#sphx-glr-auto-examples-advanced-examples-plot-grid-search-withinsession-py"
   ]
  },
  {
   "cell_type": "markdown",
   "id": "2a638dcf-8786-4ea5-b31b-c0f151e9a8fd",
   "metadata": {},
   "source": [
    "# FilterBank CSP versus CSP - http://moabb.neurotechx.com/docs/auto_examples/advanced_examples/plot_filterbank_csp_vs_csp.html#sphx-glr-auto-examples-advanced-examples-plot-filterbank-csp-vs-csp-py"
   ]
  },
  {
   "cell_type": "markdown",
   "id": "5184af0e-47ad-482d-8c82-97835ce11ca2",
   "metadata": {},
   "source": [
    "# Statistical analysis (+++) - http://moabb.neurotechx.com/docs/auto_examples/advanced_examples/plot_statistical_analysis.html#sphx-glr-auto-examples-advanced-examples-plot-statistical-analysis-py"
   ]
  },
  {
   "cell_type": "markdown",
   "id": "38df7fc3-0b96-4103-a7e4-21a801562b94",
   "metadata": {},
   "source": [
    "# Within Session Motor Imagery with Learning Curve - http://moabb.neurotechx.com/docs/auto_examples/learning_curve/plot_learning_curve_motor_imagery.html#sphx-glr-auto-examples-learning-curve-plot-learning-curve-motor-imagery-py"
   ]
  },
  {
   "cell_type": "markdown",
   "id": "359e33ac-4b99-4976-9826-856f59eeab91",
   "metadata": {},
   "source": [
    "# Cross-Session on Multiple Datasets - MI - http://moabb.neurotechx.com/docs/auto_examples/plot_cross_session_multiple_datasets.html#sphx-glr-auto-examples-plot-cross-session-multiple-datasets-py"
   ]
  },
  {
   "cell_type": "markdown",
   "id": "20698eec-91cb-41cf-8ed5-4497932ff4a5",
   "metadata": {},
   "source": [
    "# Benchmarking with MOABB with Grid Search (+++) - http://moabb.neurotechx.com/docs/auto_examples/plot_benchmark_grid_search.html#sphx-glr-auto-examples-plot-benchmark-grid-search-py"
   ]
  },
  {
   "cell_type": "markdown",
   "id": "a7091bd2-aee8-4981-8567-0f9a77c2299d",
   "metadata": {},
   "source": [
    "# Ensemble learning on functional connectivity - https://pyriemann.readthedocs.io/en/latest/auto_examples/motor-imagery/plot_ensemble_coherence.html\n",
    "# try to plot some infos - cf DR with visbrain if time"
   ]
  }
 ],
 "metadata": {
  "kernelspec": {
   "display_name": "Python 3 (ipykernel)",
   "language": "python",
   "name": "python3"
  },
  "language_info": {
   "codemirror_mode": {
    "name": "ipython",
    "version": 3
   },
   "file_extension": ".py",
   "mimetype": "text/x-python",
   "name": "python",
   "nbconvert_exporter": "python",
   "pygments_lexer": "ipython3",
   "version": "3.9.7"
  }
 },
 "nbformat": 4,
 "nbformat_minor": 5
}
