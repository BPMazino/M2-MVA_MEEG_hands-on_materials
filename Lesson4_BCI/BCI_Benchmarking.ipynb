{
 "cells": [
  {
   "cell_type": "markdown",
   "id": "ff19372f-ac58-4cae-ba98-eeaf39bd13ae",
   "metadata": {
    "tags": []
   },
   "source": [
    "# Demo 1 - Comparing BCI pipelines with MOABB - Code based on this [tutorial](http://moabb.neurotechx.com/docs/auto_examples/advanced_examples/plot_statistical_analysis.html#sphx-glr-download-auto-examples-advanced-examples-plot-statistical-analysis-py) "
   ]
  },
  {
   "cell_type": "code",
   "execution_count": null,
   "id": "474226ab-2d59-4a50-b619-d10389deed6c",
   "metadata": {
    "tags": []
   },
   "outputs": [],
   "source": [
    "import matplotlib.pyplot as plt\n",
    "from mne.decoding import CSP\n",
    "from pyriemann.estimation import Covariances\n",
    "from pyriemann.tangentspace import TangentSpace\n",
    "from sklearn.discriminant_analysis import LinearDiscriminantAnalysis as LDA\n",
    "from sklearn.linear_model import LogisticRegression\n",
    "from sklearn.pipeline import Pipeline\n",
    "from sklearn.model_selection import GridSearchCV, StratifiedKFold\n",
    "from sklearn.svm import SVC\n",
    "\n",
    "import moabb\n",
    "from moabb import benchmark, set_log_level\n",
    "from moabb.analysis.plotting import score_plot\n",
    "import moabb.analysis.plotting as moabb_plt\n",
    "from moabb.analysis.meta_analysis import (  # noqa: E501\n",
    "    compute_dataset_statistics,\n",
    "    find_significant_differences,\n",
    ")\n",
    "from moabb.datasets import BNCI2014_001, Zhou2016, Cho2017\n",
    "from moabb.evaluations import CrossSessionEvaluation\n",
    "from moabb.paradigms import LeftRightImagery\n",
    "\n",
    "import seaborn as sns\n",
    "\n",
    "moabb.set_log_level(\"info\")\n",
    "print(__doc__)\n"
   ]
  },
  {
   "cell_type": "code",
   "execution_count": null,
   "id": "580b294d-f829-422c-b794-b06a14a80a43",
   "metadata": {
    "tags": []
   },
   "outputs": [],
   "source": [
    "# pipelines to be compared\n",
    "\n",
    "pipelines = {}\n",
    "\n",
    "param_svm = {\"kernel\": (\"linear\", \"rbf\"), \"C\": [0.1, 1, 10]}\n",
    "step_csp_svm = [\n",
    "    (\"cov\", Covariances(estimator=\"lwf\")),\n",
    "    (\"csp\", CSP(6)),\n",
    "    (\"optsvm\", GridSearchCV(SVC(), param_svm, cv=3)),\n",
    "]\n",
    "pipelines[\"CSP+optSVM\"] = Pipeline(steps=step_csp_svm)\n",
    "\n",
    "\n",
    "step_csp_lda=[(\"csp\", CSP(8)), (\"LDA\", LDA())]\n",
    "pipelines[\"CSP+LDA\"] = Pipeline(steps=step_csp_lda)\n",
    "\n",
    "step_rg_lr =[ (\"cov\", Covariances()), (\"RG\", TangentSpace()), (\"LR\", LogisticRegression())]\n",
    "pipelines[\"RG+LR\"] = Pipeline(steps=step_rg_lr)\n",
    "\n",
    "step_csp_lr =[(\"csp\", CSP(8)), (\"LR\", LogisticRegression())]\n",
    "pipelines[\"CSP+LR\"] = Pipeline(steps=step_csp_lr)\n",
    "\n",
    "step_rg_lda =[(\"cov\", Covariances()), (\"RG\", TangentSpace()), (\"LDA\", LogisticRegression())]\n",
    "pipelines[\"RG+LDA\"] = Pipeline(steps=step_rg_lda)\n"
   ]
  },
  {
   "cell_type": "code",
   "execution_count": null,
   "id": "057e514f-fda2-4573-b445-afe87ca451fb",
   "metadata": {
    "tags": []
   },
   "outputs": [],
   "source": [
    "# evaluation on one dataset\n",
    "\n",
    "paradigm = LeftRightImagery()\n",
    "dataset = BNCI2014_001()\n",
    "dataset.subject_list = dataset.subject_list[:4]\n",
    "datasets = [dataset]\n",
    "overwrite = True  # set to False if we want to use cached results\n",
    "evaluation = CrossSessionEvaluation(\n",
    "    paradigm=paradigm, datasets=datasets, suffix=\"stats\", overwrite=overwrite\n",
    ")\n",
    "\n",
    "results = evaluation.process(pipelines)"
   ]
  },
  {
   "cell_type": "code",
   "execution_count": null,
   "id": "4277682f-6847-4069-bfbc-ac5bd70b39ac",
   "metadata": {
    "tags": []
   },
   "outputs": [],
   "source": [
    "# plot comparison\n",
    "fig = moabb_plt.score_plot(results)\n",
    "plt.show()\n"
   ]
  },
  {
   "cell_type": "code",
   "execution_count": null,
   "id": "fe2dd662-528e-4785-a863-b72621bccb5d",
   "metadata": {
    "tags": []
   },
   "outputs": [],
   "source": [
    "fig = moabb_plt.paired_plot(results, \"CSP+LDA\", \"RG+LDA\")\n",
    "plt.show()\n",
    "\n"
   ]
  },
  {
   "cell_type": "code",
   "execution_count": null,
   "id": "0b78d084-f426-4926-95c3-0e8db389efcc",
   "metadata": {
    "tags": []
   },
   "outputs": [],
   "source": [
    "# plot statistical comparison\n",
    "stats = compute_dataset_statistics(results)\n",
    "P, T = find_significant_differences(stats)\n",
    "\n",
    "fig = moabb_plt.meta_analysis_plot(stats, \"CSP+LDA\", \"RG+LDA\")\n",
    "plt.show()"
   ]
  },
  {
   "cell_type": "code",
   "execution_count": null,
   "id": "9e82e6ef-392c-423d-8939-4b82e5e9ffeb",
   "metadata": {
    "tags": []
   },
   "outputs": [],
   "source": [
    "moabb_plt.summary_plot(P, T)\n",
    "plt.show()"
   ]
  },
  {
   "cell_type": "markdown",
   "id": "0d5a3369-769f-4ecf-9dd9-57e8a0fe43af",
   "metadata": {},
   "source": [
    "# Demo 2 - Benchmarking with different datasets"
   ]
  },
  {
   "cell_type": "code",
   "execution_count": null,
   "id": "e2b5a483-c30f-4a2f-a3ba-887f3cf8b4ec",
   "metadata": {
    "tags": []
   },
   "outputs": [],
   "source": [
    "paradigm = LeftRightImagery()\n",
    "subj = [1, 2, 3]\n",
    "datasets = [BNCI2014_001(), Zhou2016()]\n",
    "for d in datasets:\n",
    "    d.subject_list = subj\n",
    "\n",
    "overwrite = True  # set to False if we want to use cached results\n",
    "evaluation = CrossSessionEvaluation(\n",
    "    paradigm=paradigm, datasets=datasets, suffix=\"stats\", overwrite=overwrite\n",
    ")\n",
    "\n",
    "results = evaluation.process(pipelines)"
   ]
  },
  {
   "cell_type": "code",
   "execution_count": null,
   "id": "fbb26f10-ac17-4937-b7f6-c2b9c59ccbd2",
   "metadata": {
    "tags": []
   },
   "outputs": [],
   "source": [
    "\n",
    "sns.catplot(\n",
    "    data=results,\n",
    "    x=\"session\",\n",
    "    y=\"score\",\n",
    "    hue=\"subject\",\n",
    "    col=\"dataset\",\n",
    "    kind=\"bar\",\n",
    "    palette=\"viridis\",\n",
    ")\n",
    "plt.show()"
   ]
  },
  {
   "cell_type": "code",
   "execution_count": null,
   "id": "df5bd2d8-0a3c-4eb6-bd61-520c38b70915",
   "metadata": {
    "tags": []
   },
   "outputs": [],
   "source": [
    "fig = moabb_plt.score_plot(results)\n",
    "plt.show()"
   ]
  },
  {
   "cell_type": "code",
   "execution_count": null,
   "id": "60ba3ca8-2ff3-4b8b-979e-5888033c06a1",
   "metadata": {
    "tags": []
   },
   "outputs": [],
   "source": [
    "stats = compute_dataset_statistics(results)\n",
    "P, T = find_significant_differences(stats)\n",
    "moabb_plt.summary_plot(P, T)\n",
    "plt.show()\n"
   ]
  },
  {
   "cell_type": "code",
   "execution_count": null,
   "id": "0981dc1b-8bd3-4c88-b93f-e265f63f9b10",
   "metadata": {
    "tags": []
   },
   "outputs": [],
   "source": [
    "fig = moabb_plt.meta_analysis_plot(stats, \"CSP+LDA\", \"RG+LR\")\n",
    "plt.show()"
   ]
  },
  {
   "cell_type": "markdown",
   "id": "ab1ad883-3392-4ce9-9089-408930db35c8",
   "metadata": {},
   "source": [
    "# Demo 3 - Use of alternative features based on functional connectivity - Code based on this [tutorial](https://pyriemann.readthedocs.io/en/latest/auto_examples/motor-imagery/plot_ensemble_coherence.html)"
   ]
  },
  {
   "cell_type": "code",
   "execution_count": null,
   "id": "eced29a5-447c-4e0b-aa8f-502309ac61bd",
   "metadata": {
    "tags": []
   },
   "outputs": [],
   "source": [
    "import matplotlib.pyplot as plt\n",
    "\n",
    "from mne import Epochs, pick_types, events_from_annotations\n",
    "from mne.io import concatenate_raws\n",
    "from mne.io.edf import read_raw_edf\n",
    "from mne.datasets import eegbci\n",
    "\n",
    "import numpy as np\n",
    "import pandas as pd\n",
    "import seaborn as sns\n",
    "\n",
    "from pyriemann.classification import FgMDM\n",
    "from pyriemann.estimation import Covariances, Coherences\n",
    "from pyriemann.spatialfilters import CSP\n",
    "from pyriemann.tangentspace import TangentSpace\n",
    "\n",
    "from sklearn.base import BaseEstimator, TransformerMixin\n",
    "from sklearn.discriminant_analysis import LinearDiscriminantAnalysis as LDA\n",
    "from sklearn.ensemble import StackingClassifier\n",
    "from sklearn.linear_model import LogisticRegression\n",
    "from sklearn.model_selection import GridSearchCV, StratifiedKFold\n",
    "from sklearn.pipeline import Pipeline\n",
    "from sklearn.svm import SVC\n",
    "\n",
    "\n",
    "from helpers.coherence_helpers import (\n",
    "    NearestSPD,\n",
    "    get_results,\n",
    ")"
   ]
  },
  {
   "cell_type": "markdown",
   "id": "fe41d13b-1329-4cdc-8df6-32ffce67fcd1",
   "metadata": {},
   "source": [
    "## Connectivity transformer to compute FC estimations"
   ]
  },
  {
   "cell_type": "code",
   "execution_count": null,
   "id": "9f9ee2bb-b96a-4b28-8efe-7807556cccd2",
   "metadata": {
    "tags": []
   },
   "outputs": [],
   "source": [
    "class Connectivities(TransformerMixin, BaseEstimator):\n",
    "    \"\"\"Getting connectivity features from epoch\"\"\"\n",
    "\n",
    "    def __init__(self, method=\"ordinary\", fmin=8, fmax=35, fs=None):\n",
    "        self.method = method\n",
    "        self.fmin = fmin\n",
    "        self.fmax = fmax\n",
    "        self.fs = fs\n",
    "\n",
    "    def fit(self, X, y=None):\n",
    "        self._coh = Coherences(\n",
    "            coh=self.method,\n",
    "            fmin=self.fmin,\n",
    "            fmax=self.fmax,\n",
    "            fs=self.fs,\n",
    "        )\n",
    "        return self\n",
    "\n",
    "    def transform(self, X):\n",
    "        X_coh = self._coh.fit_transform(X)\n",
    "        X_con = np.mean(X_coh, axis=-1, keepdims=False)\n",
    "        return X_con"
   ]
  },
  {
   "cell_type": "markdown",
   "id": "2fdaa7f2-525f-4767-92a0-ae4eb4ae3443",
   "metadata": {},
   "source": [
    "## EEG data"
   ]
  },
  {
   "cell_type": "code",
   "execution_count": null,
   "id": "af35927e-f103-4132-93cb-a9c466784dba",
   "metadata": {
    "tags": []
   },
   "outputs": [],
   "source": [
    "# avoid classification of evoked responses by using epochs that start 1s after cue onset.\n",
    "tmin, tmax = 1.0, 2.0\n",
    "event_id = dict(hands=2, feet=3)\n",
    "subject = 7\n",
    "runs = [4, 8]  # motor imagery: left vs right hand\n",
    "\n",
    "raw_files = [\n",
    "    read_raw_edf(f, preload=True) for f in eegbci.load_data(subject, runs)\n",
    "]\n",
    "raw = concatenate_raws(raw_files)\n",
    "\n",
    "picks = pick_types(\n",
    "    raw.info, meg=False, eeg=True, stim=False, eog=False, exclude=\"bads\"\n",
    ")\n",
    "# subsample elecs\n",
    "picks = picks[::2]\n",
    "\n",
    "# Apply band-pass filter\n",
    "raw.filter(7.0, 35.0, method=\"iir\", picks=picks)\n",
    "\n",
    "events, _ = events_from_annotations(raw, event_id=dict(T1=2, T2=3))\n",
    "\n",
    "# Read epochs (train will be done only between 1 and 2s)\n",
    "epochs = Epochs(\n",
    "    raw,\n",
    "    events,\n",
    "    event_id,\n",
    "    tmin,\n",
    "    tmax,\n",
    "    proj=True,\n",
    "    picks=picks,\n",
    "    baseline=None,\n",
    "    preload=True,\n",
    "    verbose=False,\n",
    ")\n",
    "labels = epochs.events[:, -1] - 2\n",
    "fs = epochs.info[\"sfreq\"]\n",
    "X = 1e6 * epochs.get_data()"
   ]
  },
  {
   "cell_type": "code",
   "execution_count": null,
   "id": "d481deef-9376-45d3-aa38-8d5fe0001c11",
   "metadata": {
    "tags": []
   },
   "outputs": [],
   "source": [
    "# plot infos features\n",
    "idx_left=np.where(labels==0)\n",
    "idx_right=np.where(labels==1)\n",
    "\n",
    "X_left=np.squeeze(X[idx_left,:,:])\n",
    "X_right=np.squeeze(X[idx_right,:,:])\n",
    "\n",
    "mat_connect_left=dict()\n",
    "mat_connect_right=dict()\n",
    "\n",
    "param_ft = {\"fmin\": fmin, \"fmax\": fmax, \"fs\": fs}\n",
    "for sm in spectral_met:\n",
    "    if sm == \"cov\":\n",
    "        Y=Covariances(estimator=\"lwf\").transform(X)\n",
    "        mat_connect_left[sm]=Y[idx_left,:,:]\n",
    "        mat_connect_right[sm]=Y[idx_right,:,:]\n",
    "    else:\n",
    "        Y=Coherences(coh=sm, fmin=fmin, fmax=fmax, fs=fs).transform(X)\n",
    "        avg_freqBand=Y.mean(axis=3)\n",
    "        mat_connect_left[sm]=np.mean(np.squeeze(avg_freqBand[idx_left,:,:]),0) # direct averaged over the trials\n",
    "        mat_connect_right[sm]=np.mean(np.squeeze(avg_freqBand[idx_right,:,:]),0)\n",
    "        \n",
    "        \n",
    "# plot FC\n",
    "sm=spectral_met[2]\n",
    "\n",
    "fig, axes = plt.subplots(1,2, figsize=[8, 3])\n",
    "ch_names = [ch.replace('.', '') for ch in epochs.ch_names]\n",
    "\n",
    "df = pd.DataFrame(data=mat_connect_left[sm], index=ch_names, columns=ch_names)\n",
    "g = sns.heatmap(\n",
    "                df, ax=axes[0], square=True, cbar=True, xticklabels=2, yticklabels=2)\n",
    "g.set_title('Mean ' + sm + ' - left MI')\n",
    "\n",
    "df = pd.DataFrame(data=mat_connect_right[sm], index=ch_names, columns=ch_names)\n",
    "g = sns.heatmap(\n",
    "                df, ax=axes[1], square=True, cbar=True, xticklabels=2, yticklabels=2)\n",
    "g.set_title('Mean ' + sm + ' - right MI')\n",
    "\n",
    "plt.xticks(rotation='vertical')\n",
    "plt.yticks(rotation='horizontal')\n",
    "plt.show()\n",
    "\n",
    "\n",
    "fig, axes = plt.subplots(figsize=[8, 4])\n",
    "ch_names = [ch.replace('.', '') for ch in epochs.ch_names]\n",
    "\n",
    "df = pd.DataFrame(data=mat_connect_right[sm]-mat_connect_left[sm], index=ch_names, columns=ch_names)\n",
    "g = sns.heatmap(\n",
    "                df, ax=axes, square=True, cbar=True, xticklabels=2, yticklabels=2, cmap=\"vlag\")\n",
    "g.set_title('Difference Right - Left ' + sm )\n",
    "\n",
    "plt.xticks(rotation='vertical')\n",
    "plt.yticks(rotation='horizontal')\n",
    "plt.show()"
   ]
  },
  {
   "cell_type": "markdown",
   "id": "84e340d4-7698-41a7-93f5-9d29a9291c95",
   "metadata": {},
   "source": [
    "## Pipelines definition"
   ]
  },
  {
   "cell_type": "markdown",
   "id": "679221a7-a644-42f8-a693-ac229cbf8204",
   "metadata": {},
   "source": [
    "Here we are going to compare different methods: CSP+shLDA, CSP+SVM, FgMDM on covariance, tangent space logistic regression with covariance, lag coherence, and instantaneous coherence, along with ensemble method - *TODO: add more?*"
   ]
  },
  {
   "cell_type": "code",
   "execution_count": null,
   "id": "b6332450-73f0-4550-96d8-8f0687d6a37d",
   "metadata": {
    "tags": []
   },
   "outputs": [],
   "source": [
    "ppl_baseline, ppl_fc, ppl_ens = {}, {}, {}"
   ]
  },
  {
   "cell_type": "code",
   "execution_count": null,
   "id": "c254edee-7350-4212-8b24-f4a6d69ecd66",
   "metadata": {
    "tags": []
   },
   "outputs": [],
   "source": [
    "# Baseline pipelines\n",
    "param_svm = {\"kernel\": (\"linear\", \"rbf\"), \"C\": [0.1, 1, 10]}\n",
    "step_csp_svm = [\n",
    "    (\"cov\", Covariances(estimator=\"lwf\")),\n",
    "    (\"csp\", CSP(nfilter=6)),\n",
    "    (\"optsvm\", GridSearchCV(SVC(), param_svm, cv=3)),\n",
    "]\n",
    "ppl_baseline[\"CSP+optSVM\"] = Pipeline(steps=step_csp_svm)\n",
    "\n",
    "\n",
    "step_mdm = [\n",
    "    (\"cov\", Covariances(estimator=\"lwf\")),\n",
    "    (\"fgmdm\", FgMDM(metric=\"riemann\", tsupdate=False)),\n",
    "]\n",
    "ppl_baseline[\"FgMDM\"] = Pipeline(steps=step_mdm)\n"
   ]
  },
  {
   "cell_type": "code",
   "execution_count": null,
   "id": "e4341413-59d5-4670-ae67-06d5b4798924",
   "metadata": {
    "tags": []
   },
   "outputs": [],
   "source": [
    "# Functional connectivity pipelines\n",
    "spectral_met = [\"cov\", \"lagged\", \"instantaneous\"]\n",
    "fmin, fmax = 8, 35\n",
    "param_lr = {\n",
    "    \"penalty\": \"elasticnet\",\n",
    "    \"l1_ratio\": 0.15,\n",
    "    \"intercept_scaling\": 1000.0,\n",
    "    \"solver\": \"saga\",\n",
    "}\n",
    "param_ft = {\"fmin\": fmin, \"fmax\": fmax, \"fs\": fs}\n",
    "step_fc = [\n",
    "    (\"spd\", NearestSPD()),\n",
    "    (\"tg\", TangentSpace(metric=\"riemann\")),\n",
    "    (\"LogistReg\", LogisticRegression(**param_lr)),\n",
    "]\n",
    "for sm in spectral_met:\n",
    "    pname = sm + \"+elasticnet\"\n",
    "    if sm == \"cov\":\n",
    "        ppl_fc[pname] = Pipeline(\n",
    "            steps=[(\"cov\", Covariances(estimator=\"lwf\"))] + step_fc\n",
    "        )\n",
    "    else:\n",
    "        ft = Connectivities(**param_ft, method=sm)\n",
    "        ppl_fc[pname] = Pipeline(steps=[(\"ft\", ft)] + step_fc)"
   ]
  },
  {
   "cell_type": "code",
   "execution_count": null,
   "id": "daf187da-a797-4d17-8362-2eb9ae0f6eb5",
   "metadata": {
    "tags": []
   },
   "outputs": [],
   "source": [
    "# Ensemble classifier\n",
    "fc_estim = [(n, ppl_fc[n]) for n in ppl_fc]\n",
    "cvkf = StratifiedKFold(n_splits=5, shuffle=True, random_state=42)\n",
    "\n",
    "lr = LogisticRegression(**param_lr)\n",
    "ppl_ens[\"ensemble\"] = StackingClassifier(\n",
    "    estimators=fc_estim,\n",
    "    cv=cvkf,\n",
    "    n_jobs=1,\n",
    "    final_estimator=lr,\n",
    "    stack_method=\"predict_proba\",\n",
    ")"
   ]
  },
  {
   "cell_type": "markdown",
   "id": "eb264709-069f-45cf-b3db-f2dec1a0164b",
   "metadata": {},
   "source": [
    "### Evaluation"
   ]
  },
  {
   "cell_type": "code",
   "execution_count": null,
   "id": "6aabce4f-39fe-4702-a09c-a2299779271c",
   "metadata": {
    "tags": []
   },
   "outputs": [],
   "source": [
    "dataset_res = list()\n",
    "all_ppl = {**ppl_baseline, **ppl_ens}\n",
    "#print(all_ppl)"
   ]
  },
  {
   "cell_type": "code",
   "execution_count": null,
   "id": "fcbf85ef-ef55-4364-b012-2c4c7f0e5f4e",
   "metadata": {
    "tags": []
   },
   "outputs": [],
   "source": [
    "# Compute results\n",
    "results = get_results(X, labels, all_ppl)\n",
    "results = pd.DataFrame(results)"
   ]
  },
  {
   "cell_type": "code",
   "execution_count": null,
   "id": "046c28fb-439a-49ff-8c1d-641122320563",
   "metadata": {
    "tags": []
   },
   "outputs": [],
   "source": [
    "results"
   ]
  },
  {
   "cell_type": "code",
   "execution_count": null,
   "id": "7aa66e3b-862e-40b0-8a08-210802b3103b",
   "metadata": {
    "tags": []
   },
   "outputs": [],
   "source": [
    "# plot results\n",
    "list_fc_ens = [\"ensemble\", \"CSP+optSVM\", \"FgMDM\"] + \\\n",
    "    [sm + \"+elasticnet\" for sm in spectral_met]\n",
    "\n",
    "g = sns.catplot(\n",
    "    data=results,\n",
    "    x=\"pipeline\",\n",
    "    y=\"score\",\n",
    "    kind=\"bar\",\n",
    "    order=list_fc_ens,\n",
    "    height=7,\n",
    "    aspect=2,\n",
    ")\n",
    "plt.show()"
   ]
  },
  {
   "cell_type": "code",
   "execution_count": null,
   "id": "0abee1fa-438f-42c4-84be-46919f340304",
   "metadata": {},
   "outputs": [],
   "source": []
  }
 ],
 "metadata": {
  "kernelspec": {
   "display_name": "Python 3 (ipykernel)",
   "language": "python",
   "name": "python3"
  },
  "language_info": {
   "codemirror_mode": {
    "name": "ipython",
    "version": 3
   },
   "file_extension": ".py",
   "mimetype": "text/x-python",
   "name": "python",
   "nbconvert_exporter": "python",
   "pygments_lexer": "ipython3",
   "version": "3.9.19"
  }
 },
 "nbformat": 4,
 "nbformat_minor": 5
}
