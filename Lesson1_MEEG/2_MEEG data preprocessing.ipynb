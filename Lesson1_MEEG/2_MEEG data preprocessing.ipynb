{
 "cells": [
  {
   "cell_type": "code",
   "execution_count": null,
   "metadata": {
    "tags": []
   },
   "outputs": [],
   "source": [
    "%matplotlib qt\n",
    "#%matplotlib inline"
   ]
  },
  {
   "cell_type": "code",
   "execution_count": null,
   "metadata": {},
   "outputs": [],
   "source": [
    "# Materials used to prepare this demo:\n",
    "    # - EEG Data Processing: https://neuro.inf.unibe.ch/AlgorithmsNeuroscience/Tutorial_files/DataVisualization.html\n",
    "    # - MNE Artifacts removal tutorial: https://mne.tools/dev/auto_tutorials/preprocessing/plot_40_artifact_correction_ica.html#sphx-glr-auto-tutorials-preprocessing-plot-40-artifact-correction-ica-py\n",
    "    # - MNE Time-Frequency tutorial: https://mne.tools/dev/auto_examples/time_frequency/plot_time_frequency_erds.html#sphx-glr-auto-examples-time-frequency-plot-time-frequency-erds-py"
   ]
  },
  {
   "cell_type": "code",
   "execution_count": null,
   "metadata": {
    "tags": []
   },
   "outputs": [],
   "source": [
    "import mne\n",
    "from mne.datasets import eegbci\n",
    "from mne.io import concatenate_raws, read_raw_edf\n",
    "import matplotlib.pyplot as plt\n",
    "import mne.viz\n",
    "import os\n",
    "import os.path as op\n",
    "from mne.preprocessing import (ICA, create_eog_epochs, create_ecg_epochs,\n",
    "                               corrmap)\n",
    "import numpy as np\n",
    "from mne.time_frequency import tfr_multitaper\n",
    "from mne.stats import permutation_cluster_1samp_test as pcluster_test\n",
    "from mne.datasets import fetch_fsaverage\n",
    "\n",
    "from warnings import simplefilter\n",
    "#ignore all future warnings\n",
    "simplefilter(action='ignore', category=FutureWarning)"
   ]
  },
  {
   "cell_type": "markdown",
   "metadata": {},
   "source": [
    "# Load dataset & plot raw data "
   ]
  },
  {
   "cell_type": "code",
   "execution_count": null,
   "metadata": {
    "tags": []
   },
   "outputs": [],
   "source": [
    "#Define the parameters\n",
    "subject = 1  # use data from subject 1\n",
    "runs = [6, 10, 14]  # use only hand and feet motor imagery runs\n",
    "\n",
    "#Get data and locate in to given path\n",
    "files = eegbci.load_data(subject, runs, '../datasets/')\n",
    "#Read raw data files where each file contains a run\n",
    "raws = [read_raw_edf(f, preload=True) for f in files]\n",
    "#Combine all loaded runs\n",
    "raw_obj = concatenate_raws(raws)\n",
    "\n",
    "raw_data = raw_obj.get_data()\n",
    "print(\"Number of channels: \", str(len(raw_data)))\n",
    "print(\"Number of samples: \", str(len(raw_data[0])))\n",
    "\n",
    "#Plot epochs & PSD\n",
    "raw_obj.plot(duration=120, n_channels=15, scalings=dict(eeg=420e-6))\n",
    "raw_obj.plot_psd(average=True)"
   ]
  },
  {
   "cell_type": "markdown",
   "metadata": {},
   "source": [
    "# Artifacts removal"
   ]
  },
  {
   "cell_type": "code",
   "execution_count": null,
   "metadata": {},
   "outputs": [],
   "source": [
    "# Compute ICA components\n",
    "mapping = {\n",
    "    'Fc5.': 'FC5', 'Fc3.': 'FC3', 'Fc1.': 'FC1', 'Fcz.': 'FCz', 'Fc2.': 'FC2',\n",
    "    'Fc4.': 'FC4', 'Fc6.': 'FC6', 'C5..': 'C5', 'C3..': 'C3', 'C1..': 'C1',\n",
    "    'Cz..': 'Cz', 'C2..': 'C2', 'C4..': 'C4', 'C6..': 'C6', 'Cp5.': 'CP5',\n",
    "    'Cp3.': 'CP3', 'Cp1.': 'CP1', 'Cpz.': 'CPz', 'Cp2.': 'CP2', 'Cp4.': 'CP4',\n",
    "    'Cp6.': 'CP6', 'Fp1.': 'Fp1', 'Fpz.': 'Fpz', 'Fp2.': 'Fp2', 'Af7.': 'AF7',\n",
    "    'Af3.': 'AF3', 'Afz.': 'AFz', 'Af4.': 'AF4', 'Af8.': 'AF8', 'F7..': 'F7',\n",
    "    'F5..': 'F5', 'F3..': 'F3', 'F1..': 'F1', 'Fz..': 'Fz', 'F2..': 'F2',\n",
    "    'F4..': 'F4', 'F6..': 'F6', 'F8..': 'F8', 'Ft7.': 'FT7', 'Ft8.': 'FT8',\n",
    "    'T7..': 'T7', 'T8..': 'T8', 'T9..': 'T9', 'T10.': 'T10', 'Tp7.': 'TP7',\n",
    "    'Tp8.': 'TP8', 'P7..': 'P7', 'P5..': 'P5', 'P3..': 'P3', 'P1..': 'P1',\n",
    "    'Pz..': 'Pz', 'P2..': 'P2', 'P4..': 'P4', 'P6..': 'P6', 'P8..': 'P8',\n",
    "    'Po7.': 'PO7', 'Po3.': 'PO3', 'Poz.': 'POz', 'Po4.': 'PO4', 'Po8.': 'PO8',\n",
    "    'O1..': 'O1', 'Oz..': 'Oz', 'O2..': 'O2', 'Iz..': 'Iz'\n",
    "}\n",
    "\n",
    "raws = list()\n",
    "icas = list()\n",
    "\n",
    "for subj in range(4):\n",
    "    # EEGBCI subjects are 1-indexed; run 3 is a left/right hand movement task\n",
    "    fname = mne.datasets.eegbci.load_data(subj + 1, runs=[3])[0]\n",
    "    raw = mne.io.read_raw_edf(fname, preload=True)\n",
    "    # remove trailing `.` from channel names so we can set montage\n",
    "    raw.rename_channels(mapping)\n",
    "    raw.set_montage('standard_1005')\n",
    "\n",
    "    # fit ICA\n",
    "    ica = ICA(n_components=30, random_state=97)\n",
    "    ica.fit(raw)\n",
    "    raws.append(raw)\n",
    "    icas.append(ica)\n"
   ]
  },
  {
   "cell_type": "code",
   "execution_count": null,
   "metadata": {},
   "outputs": [],
   "source": [
    "# use the first subject as template; use Fpz as proxy for EOG\n",
    "raw = raws[0]\n",
    "ica = icas[0]\n",
    "eog_inds, eog_scores = ica.find_bads_eog(raw, ch_name='Fpz')\n",
    "corrmap(icas, template=(0, eog_inds[0]))\n",
    "\n",
    "for index, (ica, raw) in enumerate(zip(icas, raws)):\n",
    "    fig = ica.plot_sources(raw, show_scrollbars=False)\n",
    "    fig.subplots_adjust(top=0.9)  # make space for title\n",
    "    fig.suptitle('Subject {}'.format(index))\n",
    "\n"
   ]
  },
  {
   "cell_type": "code",
   "execution_count": null,
   "metadata": {},
   "outputs": [],
   "source": [
    "# compute correlations between ICA components and blinks - automatic detection labeled as \"blinks\"\n",
    "corrmap(icas, template=(0, eog_inds[0]), threshold=0.9)\n",
    "\n",
    "corrmap(icas, template=(0, eog_inds[0]), threshold=0.9, label='blink',\n",
    "        plot=False)\n",
    "print([ica.labels_ for ica in icas])\n"
   ]
  },
  {
   "cell_type": "code",
   "execution_count": null,
   "metadata": {},
   "outputs": [],
   "source": [
    "# Example of artifact detection & rejection, for a given subject\n",
    "icas[3].plot_components(picks=icas[3].labels_['blink'])\n",
    "icas[3].exclude = icas[3].labels_['blink']\n",
    "icas[3].plot_sources(raws[3], show_scrollbars=False)\n",
    "raw_preproc = raws[3].copy()\n",
    "icas[3].apply(raw_preproc) # remove the bad components\n",
    "raw_preproc.plot() # preprocessed data\n",
    "\n",
    "template_eog_component = icas[0].get_components()[:, eog_inds[0]]\n",
    "corrmap(icas, template=template_eog_component, threshold=0.9)\n",
    "print(template_eog_component)"
   ]
  },
  {
   "cell_type": "markdown",
   "metadata": {},
   "source": [
    "# Quality check"
   ]
  },
  {
   "cell_type": "code",
   "execution_count": null,
   "metadata": {},
   "outputs": [],
   "source": [
    "# plot properties of the first component - automatically detected as \"blink\"\n",
    "ica.plot_properties(raw, picks=[0])"
   ]
  },
  {
   "cell_type": "code",
   "execution_count": null,
   "metadata": {},
   "outputs": [],
   "source": [
    "# blinks\n",
    "ica.plot_overlay(raw, exclude=[0], picks=\"eeg\")"
   ]
  },
  {
   "cell_type": "markdown",
   "metadata": {},
   "source": [
    "# Analysis"
   ]
  },
  {
   "cell_type": "code",
   "execution_count": null,
   "metadata": {
    "tags": []
   },
   "outputs": [],
   "source": [
    "## Compute ERD/S maps to elicit potential desynchronization effect\n",
    "events, _ = mne.events_from_annotations(raw, event_id=dict(T1=2, T2=3))\n",
    "picks = mne.pick_channels(raw.info[\"ch_names\"], [\"C3\", \"Cz\", \"C4\"])\n",
    "\n",
    "# epoch data\n",
    "tmin, tmax = -1, 4  # define epochs around events (in s)\n",
    "event_ids = dict(hands=2, feet=3)  # map event IDs to tasks\n",
    "\n",
    "epochs = mne.Epochs(raw, events, event_ids, tmin - 0.5, tmax + 0.5,\n",
    "                    picks=picks, baseline=None, preload=True)\n",
    "\n",
    "# compute ERDS maps\n",
    "freqs = np.arange(2, 36, 1)  # frequencies from 2-35Hz\n",
    "n_cycles = freqs  # use constant t/f resolution\n",
    "vmin, vmax = -1, 1.5  # set min and max ERDS values in plot\n",
    "baseline = (-1, 0)  # baseline interval (in s)\n",
    "kwargs = dict(n_permutations=100, step_down_p=0.05, seed=1,\n",
    "              buffer_size=None, out_type='mask')  # for cluster test\n",
    "\n",
    "# Run TF decomposition overall epochs\n",
    "tfr = tfr_multitaper(epochs, freqs=freqs, n_cycles=n_cycles,\n",
    "                     use_fft=True, return_itc=False, average=False,\n",
    "                     decim=2)\n",
    "tfr.crop(tmin, tmax)\n",
    "tfr.apply_baseline(baseline, mode=\"percent\")\n",
    "for event in event_ids:\n",
    "    # select desired epochs for visualization\n",
    "    tfr_ev = tfr[event]\n",
    "    fig, axes = plt.subplots(1, 4, figsize=(12, 4),\n",
    "                             gridspec_kw={\"width_ratios\": [10, 10, 10, 1]})\n",
    "    for ch, ax in enumerate(axes[:-1]):  # for each channel\n",
    "        # positive clusters\n",
    "        _, c1, p1, _ = pcluster_test(tfr_ev.data[:, ch, ...], tail=1, **kwargs)\n",
    "        # negative clusters\n",
    "        _, c2, p2, _ = pcluster_test(tfr_ev.data[:, ch, ...], tail=-1,\n",
    "                                     **kwargs)\n",
    "        c = np.stack(c1 + c2, axis=2)  # combined clusters\n",
    "        p = np.concatenate((p1, p2))  # combined p-values\n",
    "        mask = c[..., p <= 0.05].any(axis=-1)\n",
    "\n",
    "        # plot TFR (ERDS map with masking)\n",
    "        tfr_ev.average().plot([ch], vmin=vmin, vmax=vmax, cmap=\"RdBu_r\",\n",
    "                              axes=ax, colorbar=False, show=False, mask=mask,\n",
    "                              mask_style=\"mask\")\n",
    "\n",
    "        ax.set_title(epochs.ch_names[ch], fontsize=10)\n",
    "        ax.axvline(0, linewidth=1, color=\"black\", linestyle=\":\")  # event\n",
    "        if ch != 0:\n",
    "            ax.set_ylabel(\"\")\n",
    "            ax.set_yticklabels(\"\")\n",
    "    fig.colorbar(axes[0].images[-1], cax=axes[-1])\n",
    "    fig.suptitle(\"ERDS ({})\".format(event))\n",
    "    fig.show()\n"
   ]
  },
  {
   "cell_type": "code",
   "execution_count": null,
   "metadata": {},
   "outputs": [],
   "source": []
  }
 ],
 "metadata": {
  "kernelspec": {
   "display_name": "Python 3 (ipykernel)",
   "language": "python",
   "name": "python3"
  },
  "language_info": {
   "codemirror_mode": {
    "name": "ipython",
    "version": 3
   },
   "file_extension": ".py",
   "mimetype": "text/x-python",
   "name": "python",
   "nbconvert_exporter": "python",
   "pygments_lexer": "ipython3",
   "version": "3.9.19"
  }
 },
 "nbformat": 4,
 "nbformat_minor": 4
}
