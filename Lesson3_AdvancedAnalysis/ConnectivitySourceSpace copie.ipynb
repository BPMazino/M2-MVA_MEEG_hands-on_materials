{
 "cells": [
  {
   "cell_type": "code",
   "execution_count": null,
   "id": "2b2a8b23-9332-453d-a1f7-f9ba4d6152c5",
   "metadata": {
    "tags": []
   },
   "outputs": [],
   "source": [
    "%matplotlib qt\n",
    "#%matplotlib inline"
   ]
  },
  {
   "cell_type": "code",
   "execution_count": null,
   "id": "0e563b72-3900-4393-a21f-97cb67bf6197",
   "metadata": {
    "tags": []
   },
   "outputs": [],
   "source": [
    "# Authors: Martin Luessi <mluessi@nmr.mgh.harvard.edu>\n",
    "#          Alexandre Gramfort <alexandre.gramfort@inria.fr>\n",
    "#          Nicolas P. Rougier (graph code borrowed from his matplotlib gallery)\n",
    "#\n",
    "# License: BSD (3-clause)\n",
    "\n",
    "import numpy as np\n",
    "import matplotlib.pyplot as plt\n",
    "\n",
    "import mne\n",
    "from mne.datasets import sample\n",
    "from mne.minimum_norm import apply_inverse_epochs, read_inverse_operator\n",
    "from mne.viz import circular_layout\n",
    "from mne_connectivity import spectral_connectivity_epochs\n",
    "from mne_connectivity.viz import plot_connectivity_circle\n",
    "\n",
    "print(__doc__)"
   ]
  },
  {
   "cell_type": "markdown",
   "id": "7ca93b63-68f6-4322-9599-0c47515edb1e",
   "metadata": {},
   "source": [
    "# Load data"
   ]
  },
  {
   "cell_type": "code",
   "execution_count": null,
   "id": "e424f08b-ff6c-4831-a1b7-e7b2c93f7484",
   "metadata": {},
   "outputs": [],
   "source": [
    "data_path = sample.data_path()\n",
    "subjects_dir = data_path / 'subjects'\n",
    "fname_inv = data_path / 'MEG/sample/sample_audvis-meg-oct-6-meg-inv.fif'\n",
    "fname_raw = data_path / 'MEG/sample/sample_audvis_filt-0-40_raw.fif'\n",
    "fname_event = data_path / 'MEG/sample/sample_audvis_filt-0-40_raw-eve.fif'\n",
    "\n",
    "# Load data\n",
    "inverse_operator = read_inverse_operator(fname_inv)\n",
    "raw = mne.io.read_raw_fif(fname_raw)\n",
    "events = mne.read_events(fname_event)\n",
    "\n",
    "# Add a bad channel\n",
    "raw.info['bads'] += ['MEG 2443']\n",
    "\n",
    "# Pick MEG channels\n",
    "picks = mne.pick_types(raw.info, meg=True, eeg=False, stim=False, eog=True,\n",
    "                       exclude='bads')\n",
    "\n",
    "# Define epochs for left-auditory condition\n",
    "event_id, tmin, tmax = 1, -0.2, 0.5\n",
    "epochs = mne.Epochs(raw, events, event_id, tmin, tmax, picks=picks,\n",
    "                    baseline=(None, 0), reject=dict(mag=4e-12, grad=4000e-13,\n",
    "                                                    eog=150e-6))"
   ]
  },
  {
   "cell_type": "markdown",
   "id": "640d6d84-3ceb-4d12-a829-6bcc9d05aeca",
   "metadata": {},
   "source": [
    "# Preprocessing & source analysis"
   ]
  },
  {
   "cell_type": "code",
   "execution_count": null,
   "id": "04da36cb-3d9b-47e4-be3f-9ded4f18587d",
   "metadata": {},
   "outputs": [],
   "source": [
    "# Compute inverse solution and for each epoch. By using \"return_generator=True\"\n",
    "# stcs will be a generator object instead of a list.\n",
    "snr = 1.0  # use lower SNR for single epochs\n",
    "lambda2 = 1.0 / snr ** 2\n",
    "method = \"dSPM\"  # use dSPM method (could also be MNE or sLORETA)\n",
    "stcs = apply_inverse_epochs(epochs, inverse_operator, lambda2, method,\n",
    "                            pick_ori=\"normal\", return_generator=True)\n",
    "\n",
    "# Get labels for FreeSurfer 'aparc' cortical parcellation with 34 labels/hemi\n",
    "labels = mne.read_labels_from_annot('sample', parc='aparc',\n",
    "                                    subjects_dir=subjects_dir)\n",
    "label_colors = [label.color for label in labels]\n",
    "\n",
    "# Average the source estimates within each label using sign-flips to reduce\n",
    "# signal cancellations, also here we return a generator\n",
    "src = inverse_operator['src']\n",
    "label_ts = mne.extract_label_time_course(\n",
    "    stcs, labels, src, mode='mean_flip', return_generator=True)\n"
   ]
  },
  {
   "cell_type": "markdown",
   "id": "f9867c04-c6b7-4073-8b29-62a6c5e0b43d",
   "metadata": {},
   "source": [
    "# Connectivity analysis - a guided tour of the metrics"
   ]
  },
  {
   "cell_type": "code",
   "execution_count": null,
   "id": "7722c303-2ef1-410c-82c6-7ccc8ead6980",
   "metadata": {},
   "outputs": [],
   "source": [
    "fmin = 8.\n",
    "fmax = 13.\n",
    "sfreq = raw.info['sfreq']  # the sampling frequency\n",
    "con_methods = ['pli', 'wpli2_debiased', 'ciplv']\n",
    "con = spectral_connectivity_epochs(\n",
    "    label_ts, method=con_methods, mode='multitaper', sfreq=sfreq, fmin=fmin,\n",
    "    fmax=fmax, faverage=True, mt_adaptive=True, n_jobs=1)\n",
    "\n",
    "# con is a 3D array, get the connectivity for the first (and only) freq. band\n",
    "# for each method\n",
    "con_res = dict()\n",
    "for method, c in zip(con_methods, con):\n",
    "    con_res[method] = c.get_data(output='dense')[:, :, 0]"
   ]
  },
  {
   "cell_type": "markdown",
   "id": "ce43c1d1-1cf4-4588-a36f-901473b2307f",
   "metadata": {},
   "source": [
    "## Plot results"
   ]
  },
  {
   "cell_type": "code",
   "execution_count": null,
   "id": "07b924df-4795-4161-a3c6-e1a06a961d06",
   "metadata": {},
   "outputs": [],
   "source": [
    "# First, we reorder the labels based on their location in the left hemi\n",
    "label_names = [label.name for label in labels]\n",
    "\n",
    "lh_labels = [name for name in label_names if name.endswith('lh')]\n",
    "\n",
    "# Get the y-location of the label\n",
    "label_ypos = list()\n",
    "for name in lh_labels:\n",
    "    idx = label_names.index(name)\n",
    "    ypos = np.mean(labels[idx].pos[:, 1])\n",
    "    label_ypos.append(ypos)\n",
    "\n",
    "# Reorder the labels based on their location\n",
    "lh_labels = [label for (yp, label) in sorted(zip(label_ypos, lh_labels))]\n",
    "\n",
    "# For the right hemi\n",
    "rh_labels = [label[:-2] + 'rh' for label in lh_labels]\n",
    "\n",
    "# Save the plot order and create a circular layout\n",
    "node_order = list()\n",
    "node_order.extend(lh_labels[::-1])  # reverse the order\n",
    "node_order.extend(rh_labels)\n",
    "\n",
    "node_angles = circular_layout(label_names, node_order, start_pos=90,\n",
    "                              group_boundaries=[0, len(label_names) / 2])\n",
    "\n",
    "# Plot the graph using node colors from the FreeSurfer parcellation. We only\n",
    "# show the 300 strongest connections.\n",
    "fig, ax = plt.subplots(figsize=(8, 8), facecolor='black',\n",
    "                       subplot_kw=dict(polar=True))\n",
    "plot_connectivity_circle(con_res['pli'], label_names, n_lines=300,\n",
    "                         node_angles=node_angles, node_colors=label_colors,\n",
    "                         title='All-to-All Connectivity left-Auditory '\n",
    "                               'Condition (PLI)', ax=ax)\n",
    "fig.tight_layout()"
   ]
  },
  {
   "cell_type": "code",
   "execution_count": null,
   "id": "0131999b-4075-4de0-810a-39f03e4187d5",
   "metadata": {
    "tags": []
   },
   "outputs": [],
   "source": [
    "# plot all the estimated metrics\n",
    "\n",
    "fig, axes = plt.subplots(1, 3, figsize=(8, 4), facecolor='black',\n",
    "                         subplot_kw=dict(polar=True))\n",
    "no_names = [''] * len(label_names)\n",
    "for ax, method in zip(axes, con_methods):\n",
    "    plot_connectivity_circle(con_res[method], no_names, n_lines=300,\n",
    "                             node_angles=node_angles, node_colors=label_colors,\n",
    "                             title=method, padding=0, fontsize_colorbar=6,\n",
    "                             ax=ax)\n",
    "fig.tight_layout()"
   ]
  },
  {
   "cell_type": "markdown",
   "id": "34e534db-1753-4e44-a8d5-b7b0ff7a3e01",
   "metadata": {},
   "source": [
    "# To go further"
   ]
  },
  {
   "cell_type": "markdown",
   "id": "6e4c3bd5-9b17-4c2c-8ae7-6b611ed69aee",
   "metadata": {},
   "source": [
    "## Tutorial to compare PLI metrics\n",
    "https://mne.tools/mne-connectivity/stable/auto_examples/dpli_wpli_pli.html"
   ]
  },
  {
   "cell_type": "code",
   "execution_count": null,
   "id": "3d1cb7ae-83e5-4da8-9516-916f80aa2ef8",
   "metadata": {},
   "outputs": [],
   "source": []
  }
 ],
 "metadata": {
  "kernelspec": {
   "display_name": "Python 3 (ipykernel)",
   "language": "python",
   "name": "python3"
  },
  "language_info": {
   "codemirror_mode": {
    "name": "ipython",
    "version": 3
   },
   "file_extension": ".py",
   "mimetype": "text/x-python",
   "name": "python",
   "nbconvert_exporter": "python",
   "pygments_lexer": "ipython3",
   "version": "3.9.19"
  }
 },
 "nbformat": 4,
 "nbformat_minor": 5
}
